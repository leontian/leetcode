{
 "cells": [
  {
   "cell_type": "code",
   "execution_count": 5,
   "metadata": {
    "collapsed": true
   },
   "outputs": [],
   "source": [
    "def isPowerOfThree(n):\n",
    "    \"\"\"\n",
    "    :type n: int\n",
    "    :rtype: bool\n",
    "    \"\"\"\n",
    "    while n % 3 == 0:\n",
    "        n = n / 3\n",
    "    print n\n",
    "    return n == 1"
   ]
  },
  {
   "cell_type": "code",
   "execution_count": 13,
   "metadata": {
    "collapsed": false
   },
   "outputs": [
    {
     "data": {
      "text/plain": [
       "True"
      ]
     },
     "execution_count": 13,
     "metadata": {},
     "output_type": "execute_result"
    }
   ],
   "source": [
    "isPowerOfThree(9)"
   ]
  },
  {
   "cell_type": "code",
   "execution_count": 9,
   "metadata": {
    "collapsed": true
   },
   "outputs": [],
   "source": [
    "def isPowerOfThree(n):\n",
    "    \"\"\"\n",
    "    :type n: int\n",
    "    :rtype: bool\n",
    "    \"\"\"\n",
    "    while n % 3 == 0:\n",
    "        n = n / 3\n",
    "    print n\n",
    "    return n == 1"
   ]
  },
  {
   "cell_type": "code",
   "execution_count": 12,
   "metadata": {
    "collapsed": true
   },
   "outputs": [],
   "source": [
    "import math\n",
    "def isPowerOfThree(n):\n",
    "    \"\"\"\n",
    "    :type n: int\n",
    "    :rtype: bool\n",
    "    \"\"\"\n",
    "    log = math.log(n, 3)\n",
    "    return log == int(log)"
   ]
  },
  {
   "cell_type": "code",
   "execution_count": 14,
   "metadata": {
    "collapsed": true
   },
   "outputs": [],
   "source": [
    "import math"
   ]
  },
  {
   "cell_type": "code",
   "execution_count": 15,
   "metadata": {
    "collapsed": false
   },
   "outputs": [
    {
     "data": {
      "text/plain": [
       "0.5"
      ]
     },
     "execution_count": 15,
     "metadata": {},
     "output_type": "execute_result"
    }
   ],
   "source": [
    "math.log(3, 9)"
   ]
  },
  {
   "cell_type": "code",
   "execution_count": 20,
   "metadata": {
    "collapsed": true
   },
   "outputs": [],
   "source": [
    "def getHint(secret, guess):\n",
    "    \"\"\"\n",
    "    :type secret: str\n",
    "    :type guess: str\n",
    "    :rtype: str\n",
    "    \"\"\"\n",
    "    bull = 0\n",
    "    cow = 0\n",
    "    possible_cow_s = {}\n",
    "    possible_cow_g = {}\n",
    "    for i in xrange(len(secret)):\n",
    "        if secret[i] == guess[i]:\n",
    "            bull += 1\n",
    "        else:\n",
    "            if secret[i] in possible_cow_s:\n",
    "                possible_cow_s[secret[i]] += 1\n",
    "            else:\n",
    "                possible_cow_s[secret[i]] = 1\n",
    "            if guess[i] in possible_cow_g:\n",
    "                possible_cow_g[guess[i]] += 1\n",
    "            else:\n",
    "                possible_cow_g[guess[i]] = 1\n",
    "    print possible_cow_s, possible_cow_g\n",
    "    for i in possible_cow_s:\n",
    "        if i in possible_cow_g:\n",
    "            cow += min(possible_cow_s[i], possible_cow_g[i])\n",
    "    return str(bull)+'A'+str(cow) +'B'\n"
   ]
  },
  {
   "cell_type": "code",
   "execution_count": 21,
   "metadata": {
    "collapsed": false
   },
   "outputs": [
    {
     "name": "stdout",
     "output_type": "stream",
     "text": [
      "{'1': 1, '0': 1, '7': 1} {'1': 1, '0': 1, '7': 1}\n"
     ]
    },
    {
     "data": {
      "text/plain": [
       "'1A3B'"
      ]
     },
     "execution_count": 21,
     "metadata": {},
     "output_type": "execute_result"
    }
   ],
   "source": [
    "getHint(\"1807\",\"7810\")"
   ]
  },
  {
   "cell_type": "code",
   "execution_count": 26,
   "metadata": {
    "collapsed": true
   },
   "outputs": [],
   "source": [
    "    def wordPattern(pattern, str):\n",
    "        \"\"\"\n",
    "        :type pattern: str\n",
    "        :type str: str\n",
    "        :rtype: bool\n",
    "        \"\"\"\n",
    "        str = str.split()\n",
    "        if len(str) != len(pattern):\n",
    "            return False\n",
    "        dic = {}\n",
    "        for i in xrange(len(pattern)):\n",
    "            if pattern[i] in dic:\n",
    "                if dic[pattern[i]] != str[i]:\n",
    "                    return False\n",
    "                else:\n",
    "                    continue\n",
    "            else:\n",
    "                dic[pattern[i]] = str[i]\n",
    "        print dic\n",
    "        return True\n",
    "\n"
   ]
  },
  {
   "cell_type": "code",
   "execution_count": 28,
   "metadata": {
    "collapsed": false
   },
   "outputs": [
    {
     "name": "stdout",
     "output_type": "stream",
     "text": [
      "{'a': 'dog', 'b': 'cat'}\n"
     ]
    },
    {
     "data": {
      "text/plain": [
       "True"
      ]
     },
     "execution_count": 28,
     "metadata": {},
     "output_type": "execute_result"
    }
   ],
   "source": [
    "wordPattern('abba', 'dog cat cat dog')"
   ]
  },
  {
   "cell_type": "code",
   "execution_count": 30,
   "metadata": {
    "collapsed": true
   },
   "outputs": [],
   "source": [
    "def lengthOfLastWord(s):\n",
    "    \"\"\"\n",
    "    :type s: str\n",
    "    :rtype: int\n",
    "    \"\"\"\n",
    "    s = s.split()\n",
    "    if len(s) == 0:\n",
    "        return 0\n",
    "    return len(s[-1])\n"
   ]
  },
  {
   "cell_type": "code",
   "execution_count": 33,
   "metadata": {
    "collapsed": false
   },
   "outputs": [
    {
     "data": {
      "text/plain": [
       "5"
      ]
     },
     "execution_count": 33,
     "metadata": {},
     "output_type": "execute_result"
    }
   ],
   "source": [
    "lengthOfLastWord(\"Hello World\")"
   ]
  },
  {
   "cell_type": "code",
   "execution_count": 3,
   "metadata": {
    "collapsed": true
   },
   "outputs": [],
   "source": [
    "def isBadVersion(n):\n",
    "    return n >= 3\n",
    "    def firstBadVersion(self, n):\n",
    "        \"\"\"\n",
    "        :type n: int\n",
    "        :rtype: int\n",
    "        \"\"\"\n",
    "        low = 1\n",
    "        high = n\n",
    "        while low != high:\n",
    "            #print low, high\n",
    "            if isBadVersion((low+high) / 2):\n",
    "                high = (low+high) / 2\n",
    "            else:\n",
    "                low = (low+high) / 2 + 1\n",
    "        return low"
   ]
  },
  {
   "cell_type": "code",
   "execution_count": 8,
   "metadata": {
    "collapsed": false
   },
   "outputs": [
    {
     "data": {
      "text/plain": [
       "2"
      ]
     },
     "execution_count": 8,
     "metadata": {},
     "output_type": "execute_result"
    }
   ],
   "source": [
    "firstBadVersion(1, 2)"
   ]
  },
  {
   "cell_type": "code",
   "execution_count": 53,
   "metadata": {
    "collapsed": false
   },
   "outputs": [],
   "source": [
    "class ListNode:\n",
    "    def __init__(self, x):\n",
    "        self.val = x\n",
    "        self.next = None\n",
    "\n",
    "def count_length(A):\n",
    "    x = 0\n",
    "    while A is not None:\n",
    "        x = x + 1\n",
    "        A = A.next\n",
    "    return x\n",
    "\n",
    "def fast_forward(A, n):\n",
    "    for i in range(n):\n",
    "        A = A.next\n",
    "    return A\n",
    "\n",
    "def find_intersection(A, B):\n",
    "    a = count_length(A)\n",
    "    b = count_length(B)\n",
    "    if a > b:\n",
    "        A = fast_forward(A, a-b)\n",
    "    else:\n",
    "        B = fast_forward(B, b-a)\n",
    "\n",
    "    while A != B:\n",
    "        A = A.next\n",
    "        B = B.next\n",
    "    return A"
   ]
  },
  {
   "cell_type": "code",
   "execution_count": 56,
   "metadata": {
    "collapsed": false
   },
   "outputs": [
    {
     "name": "stdout",
     "output_type": "stream",
     "text": [
      "1 2 3 4 5 \n",
      "\n",
      "6 1 2 3 4 5 \n",
      "\n",
      "7 5 \n",
      "\n",
      "1\n",
      "5\n"
     ]
    }
   ],
   "source": [
    "A1 = ListNode(1)\n",
    "A2 = ListNode(2)\n",
    "A3 = ListNode(3)\n",
    "A4 = ListNode(4)\n",
    "A5 = ListNode(5)\n",
    "B1 = ListNode(6)\n",
    "C1 = ListNode(7)\n",
    "A1.next = A2\n",
    "A2.next = A3\n",
    "A3.next = A4\n",
    "A4.next = A5\n",
    "B1.next = A1\n",
    "C1.next = A5\n",
    "def print_list(a):\n",
    "    while a != None:\n",
    "        print a.val, \n",
    "        a = a.next\n",
    "    print '\\n'\n",
    "        \n",
    "print_list(A1)\n",
    "print_list(B1)\n",
    "print_list(C1)\n",
    "print find_intersection(A1, B1).val\n",
    "print find_intersection(A1, C1).val"
   ]
  },
  {
   "cell_type": "code",
   "execution_count": 45,
   "metadata": {
    "collapsed": false
   },
   "outputs": [
    {
     "data": {
      "text/plain": [
       "3"
      ]
     },
     "execution_count": 45,
     "metadata": {},
     "output_type": "execute_result"
    }
   ],
   "source": [
    "find_intersection(A1, B1).val"
   ]
  },
  {
   "cell_type": "code",
   "execution_count": 40,
   "metadata": {
    "collapsed": true
   },
   "outputs": [],
   "source": [
    "def findMedianSortedArrays(nums1, nums2):\n",
    "    a, b = sorted((nums1, nums2), key=len)\n",
    "    la, lb = len(a), len(b)\n",
    "    mid = (la + lb - 1) / 2\n",
    "    h1, t1 = 0, la\n",
    "    while h1 < t1:\n",
    "        m1 = (h1 + t1) / 2\n",
    "        m2 = mid - m1 -1\n",
    "        if m2 < 0 or a[m1] >= b[m2]:\n",
    "            t1 = m1\n",
    "        else:\n",
    "            h1 = m1 + 1\n",
    "    i = h1\n",
    "    nextfew = sorted(a[i:i+2] + b[mid-i:mid-i+2])\n",
    "    return (nextfew[0] + nextfew[1 - (la+lb)%2]) / 2.0"
   ]
  },
  {
   "cell_type": "code",
   "execution_count": 41,
   "metadata": {
    "collapsed": false
   },
   "outputs": [
    {
     "name": "stdout",
     "output_type": "stream",
     "text": [
      "[11, 12] [6, 7]\n",
      "[6, 7, 11, 12]\n"
     ]
    },
    {
     "data": {
      "text/plain": [
       "6.5"
      ]
     },
     "execution_count": 41,
     "metadata": {},
     "output_type": "execute_result"
    }
   ],
   "source": [
    "A = [1, 2, 3, 4, 11, 12]\n",
    "B = [0, 5, 6, 7, 8, 9, 10, 13]\n",
    "findMedianSortedArrays(A, B)"
   ]
  },
  {
   "cell_type": "code",
   "execution_count": null,
   "metadata": {
    "collapsed": true
   },
   "outputs": [],
   "source": []
  },
  {
   "cell_type": "code",
   "execution_count": null,
   "metadata": {
    "collapsed": true
   },
   "outputs": [],
   "source": []
  }
 ],
 "metadata": {
  "kernelspec": {
   "display_name": "Python 2",
   "language": "python",
   "name": "python2"
  },
  "language_info": {
   "codemirror_mode": {
    "name": "ipython",
    "version": 2
   },
   "file_extension": ".py",
   "mimetype": "text/x-python",
   "name": "python",
   "nbconvert_exporter": "python",
   "pygments_lexer": "ipython2",
   "version": "2.7.11"
  }
 },
 "nbformat": 4,
 "nbformat_minor": 0
}
